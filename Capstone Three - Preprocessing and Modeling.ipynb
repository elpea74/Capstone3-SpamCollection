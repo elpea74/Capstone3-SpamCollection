{
 "cells": [
  {
   "cell_type": "code",
   "execution_count": 1,
   "id": "9386b137",
   "metadata": {},
   "outputs": [],
   "source": [
    "import pandas as pd\n",
    "import matplotlib.pyplot as plt\n",
    "import seaborn as sns\n",
    "import numpy as np\n",
    "import warnings\n",
    "warnings.filterwarnings('ignore')"
   ]
  },
  {
   "cell_type": "code",
   "execution_count": 2,
   "id": "895961e7",
   "metadata": {},
   "outputs": [],
   "source": [
    "df = pd.read_csv('data\\SMSSpamCollection_cleaned.csv')"
   ]
  },
  {
   "cell_type": "code",
   "execution_count": 3,
   "id": "dda1d633",
   "metadata": {},
   "outputs": [
    {
     "data": {
      "text/html": [
       "<div>\n",
       "<style scoped>\n",
       "    .dataframe tbody tr th:only-of-type {\n",
       "        vertical-align: middle;\n",
       "    }\n",
       "\n",
       "    .dataframe tbody tr th {\n",
       "        vertical-align: top;\n",
       "    }\n",
       "\n",
       "    .dataframe thead th {\n",
       "        text-align: right;\n",
       "    }\n",
       "</style>\n",
       "<table border=\"1\" class=\"dataframe\">\n",
       "  <thead>\n",
       "    <tr style=\"text-align: right;\">\n",
       "      <th></th>\n",
       "      <th>message</th>\n",
       "      <th>flag</th>\n",
       "    </tr>\n",
       "  </thead>\n",
       "  <tbody>\n",
       "    <tr>\n",
       "      <th>0</th>\n",
       "      <td>go jurong point crazy Available bugis n great ...</td>\n",
       "      <td>ham</td>\n",
       "    </tr>\n",
       "    <tr>\n",
       "      <th>1</th>\n",
       "      <td>ok lar joke wif u oni</td>\n",
       "      <td>ham</td>\n",
       "    </tr>\n",
       "    <tr>\n",
       "      <th>2</th>\n",
       "      <td>free entry wkly comp win FA Cup final tkts st ...</td>\n",
       "      <td>spam</td>\n",
       "    </tr>\n",
       "    <tr>\n",
       "      <th>3</th>\n",
       "      <td>U dun say early hor u c already say</td>\n",
       "      <td>ham</td>\n",
       "    </tr>\n",
       "    <tr>\n",
       "      <th>4</th>\n",
       "      <td>nah do nt think go usf live around though</td>\n",
       "      <td>ham</td>\n",
       "    </tr>\n",
       "  </tbody>\n",
       "</table>\n",
       "</div>"
      ],
      "text/plain": [
       "                                             message  flag\n",
       "0  go jurong point crazy Available bugis n great ...   ham\n",
       "1                              ok lar joke wif u oni   ham\n",
       "2  free entry wkly comp win FA Cup final tkts st ...  spam\n",
       "3                U dun say early hor u c already say   ham\n",
       "4          nah do nt think go usf live around though   ham"
      ]
     },
     "execution_count": 3,
     "metadata": {},
     "output_type": "execute_result"
    }
   ],
   "source": [
    "df.head()"
   ]
  },
  {
   "cell_type": "code",
   "execution_count": 4,
   "id": "ff65d58c",
   "metadata": {},
   "outputs": [
    {
     "data": {
      "text/html": [
       "<div>\n",
       "<style scoped>\n",
       "    .dataframe tbody tr th:only-of-type {\n",
       "        vertical-align: middle;\n",
       "    }\n",
       "\n",
       "    .dataframe tbody tr th {\n",
       "        vertical-align: top;\n",
       "    }\n",
       "\n",
       "    .dataframe thead th {\n",
       "        text-align: right;\n",
       "    }\n",
       "</style>\n",
       "<table border=\"1\" class=\"dataframe\">\n",
       "  <thead>\n",
       "    <tr style=\"text-align: right;\">\n",
       "      <th></th>\n",
       "      <th>message</th>\n",
       "      <th>flag_spam</th>\n",
       "    </tr>\n",
       "  </thead>\n",
       "  <tbody>\n",
       "    <tr>\n",
       "      <th>0</th>\n",
       "      <td>go jurong point crazy Available bugis n great ...</td>\n",
       "      <td>0</td>\n",
       "    </tr>\n",
       "    <tr>\n",
       "      <th>1</th>\n",
       "      <td>ok lar joke wif u oni</td>\n",
       "      <td>0</td>\n",
       "    </tr>\n",
       "    <tr>\n",
       "      <th>2</th>\n",
       "      <td>free entry wkly comp win FA Cup final tkts st ...</td>\n",
       "      <td>1</td>\n",
       "    </tr>\n",
       "    <tr>\n",
       "      <th>3</th>\n",
       "      <td>U dun say early hor u c already say</td>\n",
       "      <td>0</td>\n",
       "    </tr>\n",
       "    <tr>\n",
       "      <th>4</th>\n",
       "      <td>nah do nt think go usf live around though</td>\n",
       "      <td>0</td>\n",
       "    </tr>\n",
       "  </tbody>\n",
       "</table>\n",
       "</div>"
      ],
      "text/plain": [
       "                                             message  flag_spam\n",
       "0  go jurong point crazy Available bugis n great ...          0\n",
       "1                              ok lar joke wif u oni          0\n",
       "2  free entry wkly comp win FA Cup final tkts st ...          1\n",
       "3                U dun say early hor u c already say          0\n",
       "4          nah do nt think go usf live around though          0"
      ]
     },
     "execution_count": 4,
     "metadata": {},
     "output_type": "execute_result"
    }
   ],
   "source": [
    "# convert flag column into dummy variable\n",
    "df = pd.get_dummies(df, columns=['flag'], drop_first=True)\n",
    "\n",
    "df.head()"
   ]
  },
  {
   "cell_type": "code",
   "execution_count": 5,
   "id": "1892b682",
   "metadata": {},
   "outputs": [
    {
     "data": {
      "text/plain": [
       "message      4\n",
       "flag_spam    0\n",
       "dtype: int64"
      ]
     },
     "execution_count": 5,
     "metadata": {},
     "output_type": "execute_result"
    }
   ],
   "source": [
    "df.isnull().sum()"
   ]
  },
  {
   "cell_type": "markdown",
   "id": "6f55e272",
   "metadata": {},
   "source": [
    "There are empty messages in the dataset so we need to drop the rows."
   ]
  },
  {
   "cell_type": "code",
   "execution_count": 6,
   "id": "5cc64be2",
   "metadata": {},
   "outputs": [
    {
     "data": {
      "text/plain": [
       "message      0\n",
       "flag_spam    0\n",
       "dtype: int64"
      ]
     },
     "execution_count": 6,
     "metadata": {},
     "output_type": "execute_result"
    }
   ],
   "source": [
    "df.dropna(inplace=True)\n",
    "\n",
    "df.isnull().sum()"
   ]
  },
  {
   "cell_type": "code",
   "execution_count": 8,
   "id": "e4eda8e0",
   "metadata": {},
   "outputs": [
    {
     "data": {
      "text/plain": [
       "0    4495\n",
       "1     613\n",
       "Name: flag_spam, dtype: int64"
      ]
     },
     "execution_count": 8,
     "metadata": {},
     "output_type": "execute_result"
    }
   ],
   "source": [
    "df.flag_spam.value_counts()"
   ]
  },
  {
   "cell_type": "markdown",
   "id": "8c3c915f",
   "metadata": {},
   "source": [
    "There is a class imbalance here, with only 12% of total messages being spam.\n",
    "\n",
    "We need to convert messages into vectors using CountVectorizer, with each vector containing an array of token counts."
   ]
  },
  {
   "cell_type": "code",
   "execution_count": 9,
   "id": "d78baa8f",
   "metadata": {
    "scrolled": false
   },
   "outputs": [
    {
     "name": "stdout",
     "output_type": "stream",
     "text": [
      "  (0, 216)\t1\n",
      "  (0, 404)\t1\n",
      "  (0, 799)\t1\n",
      "  (0, 801)\t1\n",
      "  (0, 1066)\t1\n",
      "  (0, 1303)\t1\n",
      "  (0, 2350)\t1\n",
      "  (0, 2397)\t1\n",
      "  (0, 2479)\t1\n",
      "  (0, 3170)\t1\n",
      "  (0, 3304)\t1\n",
      "  (0, 4660)\t1\n",
      "  (0, 6788)\t1\n",
      "  (0, 7004)\t1\n",
      "  (1, 3133)\t1\n",
      "  (1, 3333)\t1\n",
      "  (1, 4267)\t1\n",
      "  (1, 4300)\t1\n",
      "  (1, 6909)\t1\n",
      "  (2, 298)\t1\n",
      "  (2, 1161)\t1\n",
      "  (2, 1350)\t1\n",
      "  (2, 1864)\t2\n",
      "  (2, 1979)\t2\n",
      "  (2, 2079)\t1\n",
      "  :\t:\n",
      "  (5106, 828)\t1\n",
      "  (5106, 1561)\t1\n",
      "  (5106, 1817)\t1\n",
      "  (5106, 2168)\t1\n",
      "  (5106, 2206)\t1\n",
      "  (5106, 2314)\t1\n",
      "  (5106, 2535)\t1\n",
      "  (5106, 2620)\t1\n",
      "  (5106, 2865)\t1\n",
      "  (5106, 2918)\t1\n",
      "  (5106, 2987)\t1\n",
      "  (5106, 3037)\t1\n",
      "  (5106, 3425)\t1\n",
      "  (5106, 4082)\t1\n",
      "  (5106, 5657)\t1\n",
      "  (5106, 5666)\t1\n",
      "  (5106, 6192)\t1\n",
      "  (5106, 6315)\t1\n",
      "  (5106, 6615)\t1\n",
      "  (5106, 6834)\t1\n",
      "  (5107, 3054)\t2\n",
      "  (5107, 4012)\t1\n",
      "  (5107, 5173)\t1\n",
      "  (5107, 6315)\t1\n",
      "  (5107, 6437)\t1\n"
     ]
    }
   ],
   "source": [
    "from sklearn.feature_extraction.text import CountVectorizer\n",
    "\n",
    "# Create vectorizer\n",
    "vectorizer = CountVectorizer()\n",
    "\n",
    "X = vectorizer.fit(df['message'])\n",
    "\n",
    "X_transform = X.transform(df['message'])\n",
    "\n",
    "print(X_transform)"
   ]
  },
  {
   "cell_type": "markdown",
   "id": "cebfb588",
   "metadata": {},
   "source": [
    "After applying CountVectorizer, we will use TF-IDF to find out how relevant a word is to each message in the dataset. \n",
    "\n",
    "The value of TF-IDF increases proportionally to the number of times a word appears in the message, and is offset by the frequency of the word in the collection."
   ]
  },
  {
   "cell_type": "code",
   "execution_count": 10,
   "id": "54d498b3",
   "metadata": {},
   "outputs": [],
   "source": [
    "from sklearn.feature_extraction.text import TfidfTransformer\n",
    "\n",
    "tfidf_transformer = TfidfTransformer().fit(X_transform)"
   ]
  },
  {
   "cell_type": "code",
   "execution_count": 11,
   "id": "1ef06e50",
   "metadata": {
    "scrolled": true
   },
   "outputs": [
    {
     "name": "stdout",
     "output_type": "stream",
     "text": [
      "(5108, 7234)\n"
     ]
    }
   ],
   "source": [
    "# transform entire bag of words corpus into TF-IDF corpus\n",
    "X_tfidf = tfidf_transformer.transform(X_transform)\n",
    "print(X_tfidf.shape)"
   ]
  },
  {
   "cell_type": "markdown",
   "id": "ece7ca41",
   "metadata": {},
   "source": [
    "Now we have transformed our messages into vectors, we can start training our classifier. We will use SVM for modeling purpose."
   ]
  },
  {
   "cell_type": "code",
   "execution_count": 12,
   "id": "7b84b7ea",
   "metadata": {},
   "outputs": [
    {
     "name": "stdout",
     "output_type": "stream",
     "text": [
      "              precision    recall  f1-score   support\n",
      "\n",
      "           0       0.88      1.00      0.94      1579\n",
      "           1       0.25      0.00      0.01       209\n",
      "\n",
      "    accuracy                           0.88      1788\n",
      "   macro avg       0.57      0.50      0.47      1788\n",
      "weighted avg       0.81      0.88      0.83      1788\n",
      "\n",
      "Accuracy = 0.88\n",
      "Recall = 0.00\n",
      "Precision = 0.25\n"
     ]
    },
    {
     "data": {
      "image/png": "[encoded data removed]",
      "text/plain": [
       "<Figure size 576x432 with 2 Axes>"
      ]
     },
     "metadata": {
      "needs_background": "light"
     },
     "output_type": "display_data"
    }
   ],
   "source": [
    "# train-test split\n",
    "from sklearn.model_selection import train_test_split\n",
    "from sklearn.svm import SVC\n",
    "from sklearn.metrics import accuracy_score, recall_score, precision_score, confusion_matrix, classification_report\n",
    "\n",
    "X_train, X_test, y_train, y_test = train_test_split(\n",
    "    X_tfidf, df['flag_spam'], test_size=0.35, random_state=42\n",
    ")\n",
    "\n",
    "#Train\n",
    "svc = SVC(kernel='linear').fit(X_train, y_train)\n",
    "preds = svc.predict(X_test)\n",
    "\n",
    "#Evaluate\n",
    "print (classification_report(y_test, preds))\n",
    "print(f'Accuracy = {accuracy_score(y_test, preds):.2f}\\nRecall = {recall_score(y_test, preds):.2f}\\nPrecision = {precision_score(y_test, preds):.2f}' )\n",
    "cm = confusion_matrix(y_test, preds)\n",
    "plt.figure(figsize=(8, 6))\n",
    "plt.title('Confusion Matrix', size=16)\n",
    "sns.heatmap(cm, annot=True, cmap='Blues', fmt='.1f');"
   ]
  },
  {
   "cell_type": "markdown",
   "id": "4c8a6d1f",
   "metadata": {},
   "source": [
    "As we can see, the model correctly identify all 'ham' messages, but about 12% of messages (208) were incorrectly not marked as spam. The imbalance classes might have contributed to this issue. We will try to improve this by oversampling the number of spam messages with SMOTE."
   ]
  },
  {
   "cell_type": "code",
   "execution_count": 13,
   "id": "4174498f",
   "metadata": {},
   "outputs": [
    {
     "name": "stdout",
     "output_type": "stream",
     "text": [
      "Shape of X before SMOTE: (5108, 7234)\n",
      "Shape of X after SMOTE: (8990, 7234)\n",
      "\n",
      "Balance of positive and negative classes (%):\n"
     ]
    },
    {
     "data": {
      "text/plain": [
       "0    50.0\n",
       "1    50.0\n",
       "Name: flag_spam, dtype: float64"
      ]
     },
     "execution_count": 13,
     "metadata": {},
     "output_type": "execute_result"
    }
   ],
   "source": [
    "from imblearn.over_sampling import SMOTE \n",
    "\n",
    "sm = SMOTE(random_state=42)\n",
    "\n",
    "X_sm, y_sm = sm.fit_resample(X_tfidf, df['flag_spam'])\n",
    "\n",
    "print(f'''Shape of X before SMOTE: {X_tfidf.shape}\n",
    "Shape of X after SMOTE: {X_sm.shape}''')\n",
    "\n",
    "print('\\nBalance of positive and negative classes (%):')\n",
    "y_sm.value_counts(normalize=True) * 100"
   ]
  },
  {
   "cell_type": "code",
   "execution_count": 14,
   "id": "d55b11a8",
   "metadata": {},
   "outputs": [
    {
     "name": "stdout",
     "output_type": "stream",
     "text": [
      "              precision    recall  f1-score   support\n",
      "\n",
      "           0       0.87      0.76      0.81      1558\n",
      "           1       0.79      0.89      0.84      1589\n",
      "\n",
      "    accuracy                           0.83      3147\n",
      "   macro avg       0.83      0.83      0.83      3147\n",
      "weighted avg       0.83      0.83      0.83      3147\n",
      "\n",
      "Accuracy = 0.83\n",
      "Recall = 0.89\n",
      "Precision = 0.79\n"
     ]
    },
    {
     "data": {
      "image/png": "[encoded data removed]",
      "text/plain": [
       "<Figure size 576x432 with 2 Axes>"
      ]
     },
     "metadata": {
      "needs_background": "light"
     },
     "output_type": "display_data"
    }
   ],
   "source": [
    "X_train, X_test, y_train, y_test = train_test_split(\n",
    "    X_sm, y_sm, test_size=0.35, random_state=42\n",
    ")\n",
    "\n",
    "#Train\n",
    "svc = SVC(kernel='linear').fit(X_train, y_train)\n",
    "preds = svc.predict(X_test)\n",
    "\n",
    "#Evaluate\n",
    "print (classification_report(y_test, preds))\n",
    "print(f'Accuracy = {accuracy_score(y_test, preds):.2f}\\nRecall = {recall_score(y_test, preds):.2f}\\nPrecision = {precision_score(y_test, preds):.2f}' )\n",
    "cm = confusion_matrix(y_test, preds)\n",
    "plt.figure(figsize=(8, 6))\n",
    "plt.title('Confusion Matrix', size=16)\n",
    "sns.heatmap(cm, annot=True, cmap='Blues', fmt='.1f');"
   ]
  },
  {
   "cell_type": "markdown",
   "id": "bea8b1c4",
   "metadata": {},
   "source": [
    "As this is a classification problem aiming to predict which messages should be classified as spam, we will use the following ML models:\n",
    "\n",
    "- K-Nearest Neighbor (KNN)\n",
    "- Logistic Regression\n",
    "- Random Forest\n",
    "- Gradient Boost"
   ]
  },
  {
   "cell_type": "code",
   "execution_count": 15,
   "id": "145d5c7c",
   "metadata": {},
   "outputs": [],
   "source": [
    "# importing all models\n",
    "from sklearn.linear_model import LogisticRegression\n",
    "from sklearn.neighbors import KNeighborsClassifier\n",
    "from sklearn.ensemble import RandomForestClassifier, GradientBoostingClassifier\n",
    "from sklearn.model_selection import cross_val_score"
   ]
  },
  {
   "cell_type": "markdown",
   "id": "cf7e0af9",
   "metadata": {},
   "source": [
    "# K-Nearest Neighbors"
   ]
  },
  {
   "cell_type": "code",
   "execution_count": 16,
   "id": "736ea0b6",
   "metadata": {},
   "outputs": [
    {
     "name": "stdout",
     "output_type": "stream",
     "text": [
      "Accuracy = 0.5300\n",
      "Recall = 0.9924\n",
      "Precision = 0.5181\n"
     ]
    },
    {
     "data": {
      "image/png": "[encoded data removed]",
      "text/plain": [
       "<Figure size 576x432 with 2 Axes>"
      ]
     },
     "metadata": {
      "needs_background": "light"
     },
     "output_type": "display_data"
    }
   ],
   "source": [
    "knn = KNeighborsClassifier(n_neighbors=10, weights='distance')\n",
    "\n",
    "# Fit model to training data\n",
    "knn.fit(X_train, y_train)\n",
    "\n",
    "# Predict using model: \n",
    "y_pred_knn = knn.predict(X_test)\n",
    "\n",
    "# Evaluate\n",
    "print(f'Accuracy = {accuracy_score(y_test, y_pred_knn):.4f}\\nRecall = {recall_score(y_test, y_pred_knn):.4f}\\nPrecision = {precision_score(y_test, y_pred_knn):.4f}' )\n",
    "cm = confusion_matrix(y_test, y_pred_knn)\n",
    "plt.figure(figsize=(8, 6))\n",
    "plt.title('Confusion Matrix K-Nearest Neighbors', size=16)\n",
    "sns.heatmap(cm, annot=True, cmap='Blues', fmt='.1f');"
   ]
  },
  {
   "cell_type": "code",
   "execution_count": 17,
   "id": "46cb0e67",
   "metadata": {},
   "outputs": [
    {
     "name": "stdout",
     "output_type": "stream",
     "text": [
      "[0.84865344 0.53322549 0.83786298 0.8391474  0.81997614]\n",
      "Mean cross validation test score: 0.7757730900971315\n",
      "Mean cross validation train score: 0.7722718222521117\n",
      "Standard deviation in cv test scores: 0.12162750715793275\n"
     ]
    }
   ],
   "source": [
    "cv_scores_test= cross_val_score(knn,X_test,y_test,cv=5,scoring='roc_auc')\n",
    "cv_scores_train= cross_val_score(knn,X_train,y_train,cv=5,scoring='roc_auc')\n",
    "print(cv_scores_test)\n",
    "cv_scores_knn_test= cv_scores_test.mean()\n",
    "cv_scores_knn_train= cv_scores_train.mean()\n",
    "cv_scores_std_test_knn= cv_scores_test.std()\n",
    "print ('Mean cross validation test score: ' +str(cv_scores_knn_test))\n",
    "print ('Mean cross validation train score: ' +str(cv_scores_knn_train))\n",
    "print ('Standard deviation in cv test scores: ' +str(cv_scores_std_test_knn))"
   ]
  },
  {
   "cell_type": "markdown",
   "id": "62104f79",
   "metadata": {},
   "source": [
    "# Logistic Regression"
   ]
  },
  {
   "cell_type": "code",
   "execution_count": 18,
   "id": "86b45ed2",
   "metadata": {},
   "outputs": [
    {
     "name": "stdout",
     "output_type": "stream",
     "text": [
      "Accuracy = 0.8634\n",
      "Recall = 0.9830\n",
      "Precision = 0.7949\n"
     ]
    },
    {
     "data": {
      "image/png": "[encoded data removed]",
      "text/plain": [
       "<Figure size 576x432 with 2 Axes>"
      ]
     },
     "metadata": {
      "needs_background": "light"
     },
     "output_type": "display_data"
    }
   ],
   "source": [
    "C_param_range = [0.001,0.01,0.1,1,10,100]\n",
    "\n",
    "table = pd.DataFrame(columns = ['C_parameter','Accuracy'])\n",
    "table['C_parameter'] = C_param_range\n",
    "\n",
    "\n",
    "j = 0\n",
    "for i in C_param_range:\n",
    "    \n",
    "    # Apply logistic regression model to training data\n",
    "    logreg = LogisticRegression(penalty = 'l2', C = i,random_state = 42)\n",
    "    logreg.fit(X_train,y_train)\n",
    "    \n",
    "    # Predict using model\n",
    "    y_pred_lr = logreg.predict(X_test)\n",
    "    \n",
    "    # Saving accuracy score in table\n",
    "    table.iloc[j,1] = accuracy_score(y_test,y_pred_lr)\n",
    "    j += 1\n",
    "    \n",
    "table\n",
    "\n",
    "# Evaluate\n",
    "print(f'Accuracy = {accuracy_score(y_test, y_pred_lr):.4f}\\nRecall = {recall_score(y_test, y_pred_lr):.4f}\\nPrecision = {precision_score(y_test, y_pred_lr):.4f}' )\n",
    "cm = confusion_matrix(y_test, y_pred_lr)\n",
    "plt.figure(figsize=(8, 6))\n",
    "plt.title('Confusion Matrix Logistic Regression', size=16)\n",
    "sns.heatmap(cm, annot=True, cmap='Blues', fmt='.1f');"
   ]
  },
  {
   "cell_type": "code",
   "execution_count": 19,
   "id": "22ebf9a7",
   "metadata": {
    "scrolled": false
   },
   "outputs": [
    {
     "name": "stdout",
     "output_type": "stream",
     "text": [
      "[0.83747581 0.86663441 0.83247391 0.86472932 0.84581084]\n",
      "Mean cross validation test score: 0.8494248581472494\n",
      "Mean cross validation train score: 0.9183472248910969\n",
      "Standard deviation in cv test scores: 0.013954000692685454\n"
     ]
    }
   ],
   "source": [
    "cv_scores_test= cross_val_score(logreg,X_test,y_test,cv=5,scoring='roc_auc')\n",
    "cv_scores_train= cross_val_score(logreg,X_train,y_train,cv=5,scoring='roc_auc')\n",
    "print(cv_scores_test)\n",
    "cv_scores_lr_test= cv_scores_test.mean()\n",
    "cv_scores_lr_train= cv_scores_train.mean()\n",
    "cv_scores_std_test_lr= cv_scores_test.std()\n",
    "print ('Mean cross validation test score: ' +str(cv_scores_lr_test))\n",
    "print ('Mean cross validation train score: ' +str(cv_scores_lr_train))\n",
    "print ('Standard deviation in cv test scores: ' +str(cv_scores_std_test_lr))"
   ]
  },
  {
   "cell_type": "markdown",
   "id": "5a03b350",
   "metadata": {},
   "source": [
    "# Random Forest"
   ]
  },
  {
   "cell_type": "code",
   "execution_count": 20,
   "id": "eeb8ff55",
   "metadata": {
    "scrolled": false
   },
   "outputs": [
    {
     "name": "stdout",
     "output_type": "stream",
     "text": [
      "Accuracy = 0.9237\n",
      "Recall = 0.91\n",
      "Precision = 0.94\n"
     ]
    },
    {
     "data": {
      "image/png": "[encoded data removed]",
      "text/plain": [
       "<Figure size 576x432 with 2 Axes>"
      ]
     },
     "metadata": {
      "needs_background": "light"
     },
     "output_type": "display_data"
    }
   ],
   "source": [
    "rf = RandomForestClassifier(random_state=42)\n",
    "\n",
    "# Fit model to training data\n",
    "rf.fit(X_train, y_train)\n",
    "\n",
    "# Predict using model: \n",
    "y_pred_rf = rf.predict(X_test)\n",
    "\n",
    "# Evaluate\n",
    "print(f'Accuracy = {accuracy_score(y_test, y_pred_rf):.4f}\\nRecall = {recall_score(y_test, y_pred_rf):.2f}\\nPrecision = {precision_score(y_test, y_pred_rf):.2f}' )\n",
    "cm = confusion_matrix(y_test, y_pred_rf)\n",
    "plt.figure(figsize=(8, 6))\n",
    "plt.title('Confusion Matrix Random Forest', size=16)\n",
    "sns.heatmap(cm, annot=True, cmap='Blues', fmt='.1f');"
   ]
  },
  {
   "cell_type": "code",
   "execution_count": 21,
   "id": "9a6208bc",
   "metadata": {},
   "outputs": [
    {
     "name": "stdout",
     "output_type": "stream",
     "text": [
      "[0.94290235 0.93198678 0.92495248 0.90512447 0.92511476]\n",
      "Mean cross validation test score: 0.9260161692684082\n",
      "Mean cross validation train score: 0.962377859117845\n",
      "Standard deviation in cv test scores: 0.012322324406938147\n"
     ]
    }
   ],
   "source": [
    "cv_scores_test= cross_val_score(rf,X_test,y_test,cv=5,scoring='roc_auc')\n",
    "cv_scores_train= cross_val_score(rf,X_train,y_train,cv=5,scoring='roc_auc')\n",
    "print(cv_scores_test)\n",
    "cv_scores_rf_test= cv_scores_test.mean()\n",
    "cv_scores_rf_train= cv_scores_train.mean()\n",
    "cv_scores_std_test_rf= cv_scores_test.std()\n",
    "print ('Mean cross validation test score: ' +str(cv_scores_rf_test))\n",
    "print ('Mean cross validation train score: ' +str(cv_scores_rf_train))\n",
    "print ('Standard deviation in cv test scores: ' +str(cv_scores_std_test_rf))"
   ]
  },
  {
   "cell_type": "markdown",
   "id": "3e28db21",
   "metadata": {},
   "source": [
    "# Gradient Boost"
   ]
  },
  {
   "cell_type": "code",
   "execution_count": 22,
   "id": "71f662cf",
   "metadata": {},
   "outputs": [
    {
     "name": "stdout",
     "output_type": "stream",
     "text": [
      "Accuracy = 0.8290\n",
      "Recall = 0.79\n",
      "Precision = 0.86\n"
     ]
    },
    {
     "data": {
      "image/png": "[encoded data removed]",
      "text/plain": [
       "<Figure size 576x432 with 2 Axes>"
      ]
     },
     "metadata": {
      "needs_background": "light"
     },
     "output_type": "display_data"
    }
   ],
   "source": [
    "gb = GradientBoostingClassifier(n_estimators=100, learning_rate=1.0, random_state=42)\n",
    "\n",
    "# Fit model to training data\n",
    "gb.fit(X_train, y_train)\n",
    "\n",
    "# Predict using model: \n",
    "y_pred_gb = gb.predict(X_test)\n",
    "\n",
    "# Evaluate\n",
    "print(f'Accuracy = {accuracy_score(y_test, y_pred_gb):.4f}\\nRecall = {recall_score(y_test, y_pred_gb):.2f}\\nPrecision = {precision_score(y_test, y_pred_gb):.2f}' )\n",
    "cm = confusion_matrix(y_test, y_pred_gb)\n",
    "plt.figure(figsize=(8, 6))\n",
    "plt.title('Confusion Matrix Gradient Boost', size=16)\n",
    "sns.heatmap(cm, annot=True, cmap='Blues', fmt='.1f');"
   ]
  },
  {
   "cell_type": "code",
   "execution_count": 23,
   "id": "87e37d63",
   "metadata": {},
   "outputs": [
    {
     "name": "stdout",
     "output_type": "stream",
     "text": [
      "[0.8266459  0.86462869 0.837044   0.83142733 0.84774212]\n",
      "Mean cross validation test score: 0.8414976084763566\n",
      "Mean cross validation train score: 0.8414976084763566\n",
      "Standard deviation in cv test scores: 0.013534098022247747\n"
     ]
    }
   ],
   "source": [
    "cv_scores_test= cross_val_score(gb,X_test,y_test,cv=5,scoring='roc_auc')\n",
    "cv_scores_train= cross_val_score(gb,X_train,y_train,cv=5,scoring='roc_auc')\n",
    "print(cv_scores_test)\n",
    "cv_scores_gb_test= cv_scores_test.mean()\n",
    "cv_scores_gb_train= cv_scores_train.mean()\n",
    "cv_scores_std_test_gb= cv_scores_test.std()\n",
    "print ('Mean cross validation test score: ' +str(cv_scores_gb_test))\n",
    "print ('Mean cross validation train score: ' +str(cv_scores_gb_test))\n",
    "print ('Standard deviation in cv test scores: ' +str(cv_scores_std_test_gb))"
   ]
  },
  {
   "cell_type": "markdown",
   "id": "6568564e",
   "metadata": {},
   "source": [
    "## Model comparison\n",
    "\n",
    "We applied different ML models and evaluate them using ROC-AUC scores. We will now compare the cross validation test score of all models to see which one is the most accurate."
   ]
  },
  {
   "cell_type": "code",
   "execution_count": 24,
   "id": "5f814885",
   "metadata": {},
   "outputs": [
    {
     "data": {
      "text/html": [
       "<div>\n",
       "<style scoped>\n",
       "    .dataframe tbody tr th:only-of-type {\n",
       "        vertical-align: middle;\n",
       "    }\n",
       "\n",
       "    .dataframe tbody tr th {\n",
       "        vertical-align: top;\n",
       "    }\n",
       "\n",
       "    .dataframe thead th {\n",
       "        text-align: right;\n",
       "    }\n",
       "</style>\n",
       "<table border=\"1\" class=\"dataframe\">\n",
       "  <thead>\n",
       "    <tr style=\"text-align: right;\">\n",
       "      <th></th>\n",
       "      <th>Model</th>\n",
       "      <th>CV test score</th>\n",
       "      <th>CV train score</th>\n",
       "      <th>Accuracy</th>\n",
       "    </tr>\n",
       "  </thead>\n",
       "  <tbody>\n",
       "    <tr>\n",
       "      <th>0</th>\n",
       "      <td>Logistic Regression</td>\n",
       "      <td>0.84942484</td>\n",
       "      <td>0.91834724</td>\n",
       "      <td>0.86336195</td>\n",
       "    </tr>\n",
       "    <tr>\n",
       "      <th>1</th>\n",
       "      <td>K-Nearest Neighbors</td>\n",
       "      <td>0.7757731</td>\n",
       "      <td>0.7722718</td>\n",
       "      <td>0.5300286</td>\n",
       "    </tr>\n",
       "    <tr>\n",
       "      <th>2</th>\n",
       "      <td>Random Forest</td>\n",
       "      <td>0.92601615</td>\n",
       "      <td>0.96237785</td>\n",
       "      <td>0.9237369</td>\n",
       "    </tr>\n",
       "    <tr>\n",
       "      <th>3</th>\n",
       "      <td>Gradient Boost</td>\n",
       "      <td>0.8414976</td>\n",
       "      <td>0.87610507</td>\n",
       "      <td>0.8290435</td>\n",
       "    </tr>\n",
       "  </tbody>\n",
       "</table>\n",
       "</div>"
      ],
      "text/plain": [
       "                 Model CV test score CV train score    Accuracy\n",
       "0  Logistic Regression    0.84942484     0.91834724  0.86336195\n",
       "1  K-Nearest Neighbors     0.7757731      0.7722718   0.5300286\n",
       "2        Random Forest    0.92601615     0.96237785   0.9237369\n",
       "3       Gradient Boost     0.8414976     0.87610507   0.8290435"
      ]
     },
     "execution_count": 24,
     "metadata": {},
     "output_type": "execute_result"
    }
   ],
   "source": [
    "cv_scores_test = pd.to_numeric([cv_scores_lr_test,cv_scores_knn_test,cv_scores_rf_test,cv_scores_gb_test], downcast='float')\n",
    "cv_scores_train = pd.to_numeric([cv_scores_lr_train,cv_scores_knn_train,cv_scores_rf_train,cv_scores_gb_train], downcast='float')\n",
    "accuracy_scores = pd.to_numeric([accuracy_score(y_test, y_pred_lr),accuracy_score(y_test, y_pred_knn),accuracy_score(y_test, y_pred_rf),accuracy_score(y_test, y_pred_gb)], downcast='float')\n",
    "cols = ['Model', 'CV test score', 'CV train score', 'Accuracy']\n",
    "indexes = ['Logistic Regression', 'K-Nearest Neighbors', 'Random Forest', 'Gradient Boost']\n",
    "\n",
    "df_scores = pd.DataFrame(np.array([indexes, cv_scores_test, cv_scores_train, accuracy_scores])).T\n",
    "\n",
    "df_scores.columns = cols\n",
    "#df_scores.set_index('Model', inplace=True)\n",
    "\n",
    "df_scores"
   ]
  },
  {
   "cell_type": "code",
   "execution_count": 25,
   "id": "87d16ecd",
   "metadata": {},
   "outputs": [
    {
     "data": {
      "image/png": "[encoded data removed]",
      "text/plain": [
       "<Figure size 1080x720 with 1 Axes>"
      ]
     },
     "metadata": {
      "needs_background": "light"
     },
     "output_type": "display_data"
    }
   ],
   "source": [
    "df_scores.explode('CV test score')\n",
    "df_scores['CV test score'] = df_scores['CV test score'].astype('float')\n",
    "\n",
    "df_scores.explode('CV train score')\n",
    "df_scores['CV train score'] = df_scores['CV train score'].astype('float')\n",
    "\n",
    "df_scores.explode('Accuracy')\n",
    "df_scores['Accuracy'] = df_scores['Accuracy'].astype('float')\n",
    "\n",
    "fig, ax1 = plt.subplots(figsize=(15, 10))\n",
    "tidy = df_scores.melt(id_vars='Model').rename(columns=str.title)\n",
    "tidy\n",
    "sns.barplot(x='Model', y='Value', hue='Variable', data=tidy, ax=ax1)\n",
    "plt.title('Comparison of ML models test scores and accuracy')\n",
    "plt.xlabel('Model')\n",
    "plt.legend(loc='best')\n",
    "sns.despine(fig)"
   ]
  },
  {
   "cell_type": "markdown",
   "id": "099c8c3c",
   "metadata": {},
   "source": [
    "From the barplot, we can see that Random Forest and Logistic Regression are the best models to use for our spam filter.\n",
    "\n",
    "## Hyperparameter Tuning for Random Forest"
   ]
  },
  {
   "cell_type": "code",
   "execution_count": 26,
   "id": "464ca0d7",
   "metadata": {},
   "outputs": [
    {
     "name": "stdout",
     "output_type": "stream",
     "text": [
      "{'bootstrap': [True, False],\n",
      " 'max_depth': [10, 35, 60, 85, 110],\n",
      " 'max_features': ['auto', 'sqrt'],\n",
      " 'min_samples_leaf': [1, 2, 4],\n",
      " 'min_samples_split': [2, 5, 10],\n",
      " 'n_estimators': [200, 400, 600, 800, 1000]}\n"
     ]
    }
   ],
   "source": [
    "from sklearn.model_selection import RandomizedSearchCV\n",
    "\n",
    "rf = RandomForestClassifier(random_state=42)\n",
    "\n",
    "# number of trees in random forest\n",
    "n_estimators = [int(x) for x in np.linspace(start=200, stop=1000, num=5)]\n",
    "\n",
    "# number of features to consider at every split\n",
    "max_features = ['auto', 'sqrt']\n",
    "\n",
    "# maximum number of levels in tree\n",
    "max_depth = [int(x) for x in np.linspace(start=10, stop=110, num=5)]\n",
    "\n",
    "# minimum number of samples required to split a node\n",
    "min_samples_split = [2, 5, 10]\n",
    "\n",
    "# minimum number of samples required at each leaf node\n",
    "min_samples_leaf = [1, 2, 4]\n",
    "\n",
    "# mehtod of selecting samples for training each tree\n",
    "bootstrap = [True, False]\n",
    "\n",
    "# create the random grid\n",
    "random_grid = {'n_estimators': n_estimators,\n",
    "               'max_features': max_features,\n",
    "               'max_depth': max_depth,\n",
    "               'min_samples_split': min_samples_split,\n",
    "               'min_samples_leaf': min_samples_leaf,\n",
    "               'bootstrap': bootstrap}\n",
    "\n",
    "from pprint import pprint\n",
    "\n",
    "pprint(random_grid)"
   ]
  },
  {
   "cell_type": "code",
   "execution_count": 27,
   "id": "5c06d078",
   "metadata": {},
   "outputs": [
    {
     "name": "stdout",
     "output_type": "stream",
     "text": [
      "Fitting 3 folds for each of 50 candidates, totalling 150 fits\n"
     ]
    },
    {
     "data": {
      "text/plain": [
       "RandomizedSearchCV(cv=3, estimator=RandomForestClassifier(random_state=42),\n",
       "                   n_iter=50, n_jobs=-1,\n",
       "                   param_distributions={'bootstrap': [True, False],\n",
       "                                        'max_depth': [10, 35, 60, 85, 110],\n",
       "                                        'max_features': ['auto', 'sqrt'],\n",
       "                                        'min_samples_leaf': [1, 2, 4],\n",
       "                                        'min_samples_split': [2, 5, 10],\n",
       "                                        'n_estimators': [200, 400, 600, 800,\n",
       "                                                         1000]},\n",
       "                   random_state=42, verbose=2)"
      ]
     },
     "execution_count": 27,
     "metadata": {},
     "output_type": "execute_result"
    }
   ],
   "source": [
    "# Use the random grid to search for best hyperparameters\n",
    "# Random search of parameters, using 3 fold cross validation, \n",
    "# search across 150 different combinations, and use all available cores\n",
    "rf_random = RandomizedSearchCV(estimator = rf, param_distributions = random_grid, n_iter = 50, cv = 3, verbose=2, random_state=42, n_jobs = -1)\n",
    "# Fit the random search model\n",
    "rf_random.fit(X_train, y_train)"
   ]
  },
  {
   "cell_type": "code",
   "execution_count": 28,
   "id": "874dbfb0",
   "metadata": {},
   "outputs": [
    {
     "data": {
      "text/plain": [
       "RandomForestClassifier(bootstrap=False, max_depth=85, min_samples_split=10,\n",
       "                       n_estimators=400, random_state=42)"
      ]
     },
     "execution_count": 28,
     "metadata": {},
     "output_type": "execute_result"
    }
   ],
   "source": [
    "# view the best parameters from fitting the random search\n",
    "rf_random.best_estimator_"
   ]
  },
  {
   "cell_type": "code",
   "execution_count": 29,
   "id": "b59646c5",
   "metadata": {},
   "outputs": [
    {
     "name": "stdout",
     "output_type": "stream",
     "text": [
      "Using best hyperparameters resulted in an accuracy improvement of -2.44%.\n"
     ]
    }
   ],
   "source": [
    "base_model = RandomForestClassifier(random_state=42)\n",
    "base_model.fit(X_train, y_train)\n",
    "y_pred_rf = base_model.predict(X_test)\n",
    "base_accuracy = accuracy_score(y_test, y_pred_rf)\n",
    "best_random = rf_random.best_estimator_\n",
    "y_pred_rf_random = rf_random.predict(X_test)\n",
    "random_accuracy = accuracy_score(y_test, y_pred_rf_random)\n",
    "\n",
    "print('Using best hyperparameters resulted in an accuracy improvement of {:0.2f}%.'.format( 100 * (random_accuracy - base_accuracy) / base_accuracy))"
   ]
  },
  {
   "cell_type": "code",
   "execution_count": 30,
   "id": "46d762f4",
   "metadata": {},
   "outputs": [
    {
     "name": "stdout",
     "output_type": "stream",
     "text": [
      "0.9011757229107086\n",
      "0.9637155297532656\n",
      "0.9142434584839565\n"
     ]
    }
   ],
   "source": [
    "rf = RandomForestClassifier(bootstrap=False, max_depth=85, min_samples_split=10,\n",
    "                       n_estimators=400, random_state=42)\n",
    "rf.fit(X_train, y_train)\n",
    "y_pred_rf = rf.predict(X_test)\n",
    "acc = accuracy_score(y_test, y_pred_rf)\n",
    "# recall = recall_score(y_test, y_pred_rf)\n",
    "precision = precision_score(y_test, y_pred_rf)\n",
    "cv = cross_val_score(rf, X_test, y_test,scoring='roc_auc').mean()\n",
    "print(acc)\n",
    "print(precision)\n",
    "print(cv)"
   ]
  },
  {
   "cell_type": "markdown",
   "id": "5afbc922",
   "metadata": {},
   "source": [
    "##### ROC-AUC Score and the ROC curve:"
   ]
  },
  {
   "cell_type": "code",
   "execution_count": 31,
   "id": "dbcd0dd1",
   "metadata": {},
   "outputs": [
    {
     "name": "stdout",
     "output_type": "stream",
     "text": [
      "ROC-AUC Score: 0.9648148656803716\n",
      "F1 score: 0.895180316818335\n"
     ]
    }
   ],
   "source": [
    "from sklearn.metrics import auc, roc_curve, roc_auc_score, f1_score\n",
    "y_scores_rf = rf.predict_proba(X_test)\n",
    "y_scores_rf = y_scores_rf[:,1]\n",
    "auroc = roc_auc_score(y_test, y_scores_rf)\n",
    "f1 = f1_score(y_test, y_scores_rf>0.5)\n",
    "print(\"ROC-AUC Score:\", auroc)\n",
    "print(\"F1 score:\", f1)"
   ]
  },
  {
   "cell_type": "code",
   "execution_count": 32,
   "id": "9a6e1943",
   "metadata": {},
   "outputs": [
    {
     "data": {
      "image/png": "[encoded data removed]",
      "text/plain": [
       "<Figure size 1080x720 with 1 Axes>"
      ]
     },
     "metadata": {
      "needs_background": "light"
     },
     "output_type": "display_data"
    }
   ],
   "source": [
    "false_positive_rate, true_positive_rate, thresholds = roc_curve(y_test, y_scores_rf)\n",
    "def plot_roc_curve(false_positive_rate, true_positive_rate, label=None):\n",
    "    plt.plot(false_positive_rate, true_positive_rate, linewidth=2, label=label)\n",
    "    plt.plot([0, 1], [0, 1], 'r', linewidth=4)\n",
    "    plt.axis([0, 1, 0, 1])\n",
    "    plt.xlabel('False Positive Rate (FPR)', fontsize=15)\n",
    "    plt.ylabel('True Positive Rate (TPR)', fontsize=15)\n",
    "    plt.title('ROC curve (RF)',fontsize=15)\n",
    "\n",
    "plt.figure(figsize=(15, 10))\n",
    "plot_roc_curve(false_positive_rate, true_positive_rate)\n",
    "plt.savefig(\"ROC curve RF.png\")\n",
    "plt.show()"
   ]
  },
  {
   "cell_type": "markdown",
   "id": "aac8b2e1",
   "metadata": {},
   "source": [
    "## Hyperparameter Tuning for Logistic Regression"
   ]
  },
  {
   "cell_type": "code",
   "execution_count": 33,
   "id": "cedbb511",
   "metadata": {},
   "outputs": [
    {
     "name": "stdout",
     "output_type": "stream",
     "text": [
      "{'C': [0.001, 0.01, 0.1, 1, 10, 100],\n",
      " 'fit_intercept': [True, False],\n",
      " 'multi_class': ['auto', 'ovr', 'multinomial'],\n",
      " 'n_jobs': [-1, 1, 2],\n",
      " 'penalty': ['l1', 'l2', 'elasticnet'],\n",
      " 'verbose': [0, 1, 5, 10]}\n"
     ]
    }
   ],
   "source": [
    "logreg = LogisticRegression(random_state=42)\n",
    "\n",
    "# norm of penalty\n",
    "penalty = ['l1','l2', 'elasticnet']\n",
    "\n",
    "# Inverse of regularization strength\n",
    "C = [0.001,0.01,0.1,1,10,100]\n",
    "\n",
    "# Whether a constant (a.k.a. bias or intercept) should be added to the decision function.\n",
    "fit_intercept = [True, False]\n",
    "\n",
    "#Number of CPU cores used when parallelizing over classes\n",
    "n_jobs = [-1, 1, 2]\n",
    "\n",
    "multi_class = ['auto', 'ovr', 'multinomial']\n",
    "\n",
    "verbose = [0, 1, 5, 10]\n",
    "\n",
    "# create the random grid\n",
    "random_grid = {'penalty': penalty,\n",
    "               'C': C,\n",
    "               'fit_intercept': fit_intercept,\n",
    "               'n_jobs': n_jobs,\n",
    "               'multi_class': multi_class,\n",
    "              'verbose': verbose}\n",
    "\n",
    "from pprint import pprint\n",
    "\n",
    "pprint(random_grid)"
   ]
  },
  {
   "cell_type": "markdown",
   "id": "50b7b1aa",
   "metadata": {},
   "source": [
    "Random search training"
   ]
  },
  {
   "cell_type": "code",
   "execution_count": 34,
   "id": "35c190ca",
   "metadata": {},
   "outputs": [
    {
     "name": "stdout",
     "output_type": "stream",
     "text": [
      "Fitting 3 folds for each of 50 candidates, totalling 150 fits\n"
     ]
    },
    {
     "name": "stderr",
     "output_type": "stream",
     "text": [
      "[Parallel(n_jobs=-1)]: Using backend LokyBackend with 8 concurrent workers.\n",
      "[Parallel(n_jobs=-1)]: Done   1 out of   1 | elapsed:    8.5s finished\n"
     ]
    },
    {
     "data": {
      "text/plain": [
       "RandomizedSearchCV(cv=3, estimator=LogisticRegression(random_state=42),\n",
       "                   n_iter=50, n_jobs=-1,\n",
       "                   param_distributions={'C': [0.001, 0.01, 0.1, 1, 10, 100],\n",
       "                                        'fit_intercept': [True, False],\n",
       "                                        'multi_class': ['auto', 'ovr',\n",
       "                                                        'multinomial'],\n",
       "                                        'n_jobs': [-1, 1, 2],\n",
       "                                        'penalty': ['l1', 'l2', 'elasticnet'],\n",
       "                                        'verbose': [0, 1, 5, 10]},\n",
       "                   random_state=42, verbose=2)"
      ]
     },
     "execution_count": 34,
     "metadata": {},
     "output_type": "execute_result"
    }
   ],
   "source": [
    "# Use the random grid to search for best hyperparameters\n",
    "# Random search of parameters, using 3 fold cross validation, \n",
    "# search across 150 different combinations, and use all available cores\n",
    "logreg_random = RandomizedSearchCV(estimator = logreg, param_distributions = random_grid, n_iter = 50, cv = 3, verbose=2, random_state=42, n_jobs = -1)\n",
    "# Fit the random search model\n",
    "logreg_random.fit(X_train, y_train)"
   ]
  },
  {
   "cell_type": "code",
   "execution_count": 35,
   "id": "a4007e40",
   "metadata": {},
   "outputs": [
    {
     "data": {
      "text/plain": [
       "LogisticRegression(C=10, fit_intercept=False, multi_class='multinomial',\n",
       "                   n_jobs=-1, random_state=42, verbose=5)"
      ]
     },
     "execution_count": 35,
     "metadata": {},
     "output_type": "execute_result"
    }
   ],
   "source": [
    "# view the best parameters from fitting the random search\n",
    "logreg_random.best_estimator_"
   ]
  },
  {
   "cell_type": "code",
   "execution_count": 36,
   "id": "4e7919b4",
   "metadata": {},
   "outputs": [
    {
     "name": "stdout",
     "output_type": "stream",
     "text": [
      "Using best hyperparameters resulted in an accuracy improvement of 10.38%.\n"
     ]
    }
   ],
   "source": [
    "base_model = LogisticRegression(random_state=42)\n",
    "base_model.fit(X_train, y_train)\n",
    "y_pred_logreg = base_model.predict(X_test)\n",
    "base_accuracy = accuracy_score(y_test, y_pred_logreg)\n",
    "best_random = logreg_random.best_estimator_\n",
    "y_pred_logreg_random = logreg_random.predict(X_test)\n",
    "random_accuracy = accuracy_score(y_test, y_pred_logreg_random)\n",
    "\n",
    "print('Using best hyperparameters resulted in an accuracy improvement of {:0.2f}%.'.format( 100 * (random_accuracy - base_accuracy) / base_accuracy))"
   ]
  },
  {
   "cell_type": "code",
   "execution_count": null,
   "id": "2128ca42",
   "metadata": {},
   "outputs": [],
   "source": [
    "logreg = RandomForestClassifier(bootstrap=False, max_depth=32, max_features='sqrt',\n",
    "                       n_estimators=1000, random_state=42)\n",
    "logreg.fit(X_train, y_train)\n",
    "y_pred_logreg = logreg.predict(X_test)\n",
    "acc = accuracy_score(y_test, y_pred_logreg)\n",
    "# recall = recall_score(y_test, y_pred_rf)\n",
    "precision = precision_score(y_test, y_pred_logreg)\n",
    "cv = cross_val_score(logreg, X_test, y_test,scoring='roc_auc').mean()\n",
    "print(acc)\n",
    "print(precision)\n",
    "print(cv)"
   ]
  },
  {
   "cell_type": "markdown",
   "id": "b7df2aad",
   "metadata": {},
   "source": [
    "##### ROC-AUC Score and the ROC curve:"
   ]
  },
  {
   "cell_type": "code",
   "execution_count": null,
   "id": "0cae04fd",
   "metadata": {
    "scrolled": true
   },
   "outputs": [],
   "source": [
    "from sklearn.metrics import auc, roc_curve, roc_auc_score, f1_score\n",
    "y_scores_logreg = logreg.predict_proba(X_test)\n",
    "y_scores_logreg = y_scores_logreg[:,1]\n",
    "auroc = roc_auc_score(y_test, y_scores_logreg)\n",
    "f1 = f1_score(y_test, y_scores_logreg>0.5)\n",
    "print(\"ROC-AUC Score:\", auroc)\n",
    "print(\"F1 score:\", f1)"
   ]
  },
  {
   "cell_type": "code",
   "execution_count": null,
   "id": "5fbd5ac4",
   "metadata": {},
   "outputs": [],
   "source": [
    "false_positive_rate, true_positive_rate, thresholds = roc_curve(y_test, y_scores_logreg)\n",
    "def plot_roc_curve(false_positive_rate, true_positive_rate, label=None):\n",
    "    plt.plot(false_positive_rate, true_positive_rate, linewidth=2, label=label)\n",
    "    plt.plot([0, 1], [0, 1], 'r', linewidth=4)\n",
    "    plt.axis([0, 1, 0, 1])\n",
    "    plt.xlabel('False Positive Rate (FPR)', fontsize=15)\n",
    "    plt.ylabel('True Positive Rate (TPR)', fontsize=15)\n",
    "    plt.title('ROC curve (RF)',fontsize=15)\n",
    "\n",
    "plt.figure(figsize=(15, 10))\n",
    "plot_roc_curve(false_positive_rate, true_positive_rate)\n",
    "plt.savefig(\"ROC curve RF.png\")\n",
    "plt.show()"
   ]
  }
 ],
 "metadata": {
  "kernelspec": {
   "display_name": "Python 3",
   "language": "python",
   "name": "python3"
  },
  "language_info": {
   "codemirror_mode": {
    "name": "ipython",
    "version": 3
   },
   "file_extension": ".py",
   "mimetype": "text/x-python",
   "name": "python",
   "nbconvert_exporter": "python",
   "pygments_lexer": "ipython3",
   "version": "3.8.8"
  }
 },
 "nbformat": 4,
 "nbformat_minor": 5
}
