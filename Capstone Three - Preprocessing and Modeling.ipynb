{
 "cells": [
  {
   "cell_type": "code",
   "execution_count": 1,
   "id": "9386b137",
   "metadata": {},
   "outputs": [],
   "source": [
    "import pandas as pd\n",
    "import matplotlib.pyplot as plt\n",
    "import seaborn as sns\n",
    "import numpy as np"
   ]
  },
  {
   "cell_type": "code",
   "execution_count": 2,
   "id": "895961e7",
   "metadata": {},
   "outputs": [],
   "source": [
    "df = pd.read_csv('data\\SMSSpamCollection_cleaned.csv')"
   ]
  },
  {
   "cell_type": "code",
   "execution_count": 3,
   "id": "dda1d633",
   "metadata": {},
   "outputs": [
    {
     "data": {
      "text/html": [
       "<div>\n",
       "<style scoped>\n",
       "    .dataframe tbody tr th:only-of-type {\n",
       "        vertical-align: middle;\n",
       "    }\n",
       "\n",
       "    .dataframe tbody tr th {\n",
       "        vertical-align: top;\n",
       "    }\n",
       "\n",
       "    .dataframe thead th {\n",
       "        text-align: right;\n",
       "    }\n",
       "</style>\n",
       "<table border=\"1\" class=\"dataframe\">\n",
       "  <thead>\n",
       "    <tr style=\"text-align: right;\">\n",
       "      <th></th>\n",
       "      <th>message</th>\n",
       "      <th>flag</th>\n",
       "    </tr>\n",
       "  </thead>\n",
       "  <tbody>\n",
       "    <tr>\n",
       "      <th>0</th>\n",
       "      <td>go jurong point crazy Available bugis n great ...</td>\n",
       "      <td>ham</td>\n",
       "    </tr>\n",
       "    <tr>\n",
       "      <th>1</th>\n",
       "      <td>ok lar joke wif u oni</td>\n",
       "      <td>ham</td>\n",
       "    </tr>\n",
       "    <tr>\n",
       "      <th>2</th>\n",
       "      <td>free entry wkly comp win FA Cup final tkts st ...</td>\n",
       "      <td>spam</td>\n",
       "    </tr>\n",
       "    <tr>\n",
       "      <th>3</th>\n",
       "      <td>U dun say early hor u c already say</td>\n",
       "      <td>ham</td>\n",
       "    </tr>\n",
       "    <tr>\n",
       "      <th>4</th>\n",
       "      <td>nah do nt think go usf live around though</td>\n",
       "      <td>ham</td>\n",
       "    </tr>\n",
       "  </tbody>\n",
       "</table>\n",
       "</div>"
      ],
      "text/plain": [
       "                                             message  flag\n",
       "0  go jurong point crazy Available bugis n great ...   ham\n",
       "1                              ok lar joke wif u oni   ham\n",
       "2  free entry wkly comp win FA Cup final tkts st ...  spam\n",
       "3                U dun say early hor u c already say   ham\n",
       "4          nah do nt think go usf live around though   ham"
      ]
     },
     "execution_count": 3,
     "metadata": {},
     "output_type": "execute_result"
    }
   ],
   "source": [
    "df.head()"
   ]
  },
  {
   "cell_type": "code",
   "execution_count": 4,
   "id": "ff65d58c",
   "metadata": {},
   "outputs": [
    {
     "data": {
      "text/html": [
       "<div>\n",
       "<style scoped>\n",
       "    .dataframe tbody tr th:only-of-type {\n",
       "        vertical-align: middle;\n",
       "    }\n",
       "\n",
       "    .dataframe tbody tr th {\n",
       "        vertical-align: top;\n",
       "    }\n",
       "\n",
       "    .dataframe thead th {\n",
       "        text-align: right;\n",
       "    }\n",
       "</style>\n",
       "<table border=\"1\" class=\"dataframe\">\n",
       "  <thead>\n",
       "    <tr style=\"text-align: right;\">\n",
       "      <th></th>\n",
       "      <th>message</th>\n",
       "      <th>flag_spam</th>\n",
       "    </tr>\n",
       "  </thead>\n",
       "  <tbody>\n",
       "    <tr>\n",
       "      <th>0</th>\n",
       "      <td>go jurong point crazy Available bugis n great ...</td>\n",
       "      <td>0</td>\n",
       "    </tr>\n",
       "    <tr>\n",
       "      <th>1</th>\n",
       "      <td>ok lar joke wif u oni</td>\n",
       "      <td>0</td>\n",
       "    </tr>\n",
       "    <tr>\n",
       "      <th>2</th>\n",
       "      <td>free entry wkly comp win FA Cup final tkts st ...</td>\n",
       "      <td>1</td>\n",
       "    </tr>\n",
       "    <tr>\n",
       "      <th>3</th>\n",
       "      <td>U dun say early hor u c already say</td>\n",
       "      <td>0</td>\n",
       "    </tr>\n",
       "    <tr>\n",
       "      <th>4</th>\n",
       "      <td>nah do nt think go usf live around though</td>\n",
       "      <td>0</td>\n",
       "    </tr>\n",
       "  </tbody>\n",
       "</table>\n",
       "</div>"
      ],
      "text/plain": [
       "                                             message  flag_spam\n",
       "0  go jurong point crazy Available bugis n great ...          0\n",
       "1                              ok lar joke wif u oni          0\n",
       "2  free entry wkly comp win FA Cup final tkts st ...          1\n",
       "3                U dun say early hor u c already say          0\n",
       "4          nah do nt think go usf live around though          0"
      ]
     },
     "execution_count": 4,
     "metadata": {},
     "output_type": "execute_result"
    }
   ],
   "source": [
    "# convert flag column into dummy variable\n",
    "df = pd.get_dummies(df, columns=['flag'], drop_first=True)\n",
    "\n",
    "df.head()"
   ]
  },
  {
   "cell_type": "code",
   "execution_count": 5,
   "id": "1892b682",
   "metadata": {},
   "outputs": [
    {
     "data": {
      "text/plain": [
       "message      4\n",
       "flag_spam    0\n",
       "dtype: int64"
      ]
     },
     "execution_count": 5,
     "metadata": {},
     "output_type": "execute_result"
    }
   ],
   "source": [
    "df.isnull().sum()"
   ]
  },
  {
   "cell_type": "markdown",
   "id": "6f55e272",
   "metadata": {},
   "source": [
    "There are empty messages in the dataset so we need to drop the rows."
   ]
  },
  {
   "cell_type": "code",
   "execution_count": 6,
   "id": "5cc64be2",
   "metadata": {},
   "outputs": [
    {
     "data": {
      "text/plain": [
       "message      0\n",
       "flag_spam    0\n",
       "dtype: int64"
      ]
     },
     "execution_count": 6,
     "metadata": {},
     "output_type": "execute_result"
    }
   ],
   "source": [
    "df.dropna(inplace=True)\n",
    "\n",
    "df.isnull().sum()"
   ]
  },
  {
   "cell_type": "code",
   "execution_count": 7,
   "id": "c71cd672",
   "metadata": {},
   "outputs": [
    {
     "data": {
      "text/plain": [
       "(613, 2)"
      ]
     },
     "execution_count": 7,
     "metadata": {},
     "output_type": "execute_result"
    }
   ],
   "source": [
    "df_spam = df[df['flag_spam'] == 1]\n",
    "df_spam.shape"
   ]
  },
  {
   "cell_type": "code",
   "execution_count": 8,
   "id": "748e9dfb",
   "metadata": {},
   "outputs": [
    {
     "data": {
      "text/plain": [
       "(4495, 2)"
      ]
     },
     "execution_count": 8,
     "metadata": {},
     "output_type": "execute_result"
    }
   ],
   "source": [
    "df_not_spam = df[df['flag_spam'] == 0]\n",
    "df_not_spam.shape"
   ]
  },
  {
   "cell_type": "markdown",
   "id": "8c3c915f",
   "metadata": {},
   "source": [
    "We need to convert messages into vectors using CountVectorizer, with each vector containing an array of token counts."
   ]
  },
  {
   "cell_type": "code",
   "execution_count": 9,
   "id": "d78baa8f",
   "metadata": {
    "scrolled": false
   },
   "outputs": [
    {
     "name": "stdout",
     "output_type": "stream",
     "text": [
      "  (0, 216)\t1\n",
      "  (0, 404)\t1\n",
      "  (0, 799)\t1\n",
      "  (0, 801)\t1\n",
      "  (0, 1066)\t1\n",
      "  (0, 1303)\t1\n",
      "  (0, 2350)\t1\n",
      "  (0, 2397)\t1\n",
      "  (0, 2479)\t1\n",
      "  (0, 3170)\t1\n",
      "  (0, 3304)\t1\n",
      "  (0, 4660)\t1\n",
      "  (0, 6788)\t1\n",
      "  (0, 7004)\t1\n",
      "  (1, 3133)\t1\n",
      "  (1, 3333)\t1\n",
      "  (1, 4267)\t1\n",
      "  (1, 4300)\t1\n",
      "  (1, 6909)\t1\n",
      "  (2, 298)\t1\n",
      "  (2, 1161)\t1\n",
      "  (2, 1350)\t1\n",
      "  (2, 1864)\t2\n",
      "  (2, 1979)\t2\n",
      "  (2, 2079)\t1\n",
      "  :\t:\n",
      "  (5106, 828)\t1\n",
      "  (5106, 1561)\t1\n",
      "  (5106, 1817)\t1\n",
      "  (5106, 2168)\t1\n",
      "  (5106, 2206)\t1\n",
      "  (5106, 2314)\t1\n",
      "  (5106, 2535)\t1\n",
      "  (5106, 2620)\t1\n",
      "  (5106, 2865)\t1\n",
      "  (5106, 2918)\t1\n",
      "  (5106, 2987)\t1\n",
      "  (5106, 3037)\t1\n",
      "  (5106, 3425)\t1\n",
      "  (5106, 4082)\t1\n",
      "  (5106, 5657)\t1\n",
      "  (5106, 5666)\t1\n",
      "  (5106, 6192)\t1\n",
      "  (5106, 6315)\t1\n",
      "  (5106, 6615)\t1\n",
      "  (5106, 6834)\t1\n",
      "  (5107, 3054)\t2\n",
      "  (5107, 4012)\t1\n",
      "  (5107, 5173)\t1\n",
      "  (5107, 6315)\t1\n",
      "  (5107, 6437)\t1\n"
     ]
    }
   ],
   "source": [
    "from sklearn.feature_extraction.text import CountVectorizer\n",
    "\n",
    "# Create vectorizer\n",
    "vectorizer = CountVectorizer()\n",
    "\n",
    "X = vectorizer.fit(df['message'])\n",
    "\n",
    "X_transform = X.transform(df['message'])\n",
    "\n",
    "print(X_transform)"
   ]
  },
  {
   "cell_type": "markdown",
   "id": "cebfb588",
   "metadata": {},
   "source": [
    "After applying CountVectorizer, we will use TF-IDF to find out how relevant a word is to each message in the dataset. \n",
    "\n",
    "The value of TF-IDF increases proportionally to the number of times a word appears in the message, and is offset by the frequency of the word in the collection."
   ]
  },
  {
   "cell_type": "code",
   "execution_count": 10,
   "id": "54d498b3",
   "metadata": {},
   "outputs": [],
   "source": [
    "from sklearn.feature_extraction.text import TfidfTransformer\n",
    "\n",
    "tfidf_transformer = TfidfTransformer().fit(X_transform)"
   ]
  },
  {
   "cell_type": "code",
   "execution_count": 11,
   "id": "1ef06e50",
   "metadata": {
    "scrolled": true
   },
   "outputs": [
    {
     "name": "stdout",
     "output_type": "stream",
     "text": [
      "(5108, 7234)\n"
     ]
    }
   ],
   "source": [
    "# transform entire bag of words corpus into TF-IDF corpus\n",
    "X_tfidf = tfidf_transformer.transform(X_transform)\n",
    "print(X_tfidf.shape)"
   ]
  },
  {
   "cell_type": "markdown",
   "id": "ece7ca41",
   "metadata": {},
   "source": [
    "Now we have transformed our messages into vectors, we can start training our classifier."
   ]
  },
  {
   "cell_type": "code",
   "execution_count": 42,
   "id": "7b84b7ea",
   "metadata": {},
   "outputs": [
    {
     "name": "stdout",
     "output_type": "stream",
     "text": [
      "              precision    recall  f1-score   support\n",
      "\n",
      "           0       0.88      1.00      0.94      1355\n",
      "           1       0.33      0.01      0.01       178\n",
      "\n",
      "    accuracy                           0.88      1533\n",
      "   macro avg       0.61      0.50      0.47      1533\n",
      "weighted avg       0.82      0.88      0.83      1533\n",
      "\n",
      "Accuracy = 0.88\n",
      "Recall = 0.01\n",
      "Precision = 0.33\n"
     ]
    },
    {
     "data": {
      "image/png": "[encoded data removed]",
      "text/plain": [
       "<Figure size 576x432 with 2 Axes>"
      ]
     },
     "metadata": {
      "needs_background": "light"
     },
     "output_type": "display_data"
    }
   ],
   "source": [
    "# train-test split\n",
    "from sklearn.model_selection import train_test_split\n",
    "from sklearn.svm import SVC\n",
    "from sklearn.metrics import accuracy_score, recall_score, precision_score, confusion_matrix\n",
    "\n",
    "X_train, X_test, y_train, y_test = train_test_split(\n",
    "    X_tfidf, df['flag_spam'], test_size=0.3, random_state=42\n",
    ")\n",
    "\n",
    "#Train\n",
    "svc = SVC(kernel='linear').fit(X_train, y_train)\n",
    "preds = svc.predict(X_test)\n",
    "\n",
    "#Evaluate\n",
    "print (classification_report(y_test, predictions))\n",
    "print(f'Accuracy = {accuracy_score(y_test, preds):.2f}\\nRecall = {recall_score(y_test, preds):.2f}\\nPrecision = {precision_score(y_test, preds):.2f}' )\n",
    "cm = confusion_matrix(y_test, preds)\n",
    "plt.figure(figsize=(8, 6))\n",
    "plt.title('Confusion Matrix', size=16)\n",
    "sns.heatmap(cm, annot=True, cmap='Blues', fmt='.1f');"
   ]
  },
  {
   "cell_type": "markdown",
   "id": "c99363df",
   "metadata": {},
   "source": [
    "As we can see, the model correctly identify all 'ham' messages, but "
   ]
  }
 ],
 "metadata": {
  "kernelspec": {
   "display_name": "Python 3",
   "language": "python",
   "name": "python3"
  },
  "language_info": {
   "codemirror_mode": {
    "name": "ipython",
    "version": 3
   },
   "file_extension": ".py",
   "mimetype": "text/x-python",
   "name": "python",
   "nbconvert_exporter": "python",
   "pygments_lexer": "ipython3",
   "version": "3.8.8"
  }
 },
 "nbformat": 4,
 "nbformat_minor": 5
}
